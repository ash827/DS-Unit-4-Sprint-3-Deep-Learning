{
  "nbformat": 4,
  "nbformat_minor": 0,
  "metadata": {
    "accelerator": "GPU",
    "colab": {
      "name": "LS_DS_Unit_4_Sprint_Challenge_4.ipynb",
      "provenance": [],
      "collapsed_sections": []
    },
    "kernel_info": {
      "name": "u4-s3-dnn"
    },
    "kernelspec": {
      "display_name": "U4-S2-NNF-DS10",
      "language": "python",
      "name": "u4-s2-nnf-ds10"
    },
    "language_info": {
      "codemirror_mode": {
        "name": "ipython",
        "version": 3
      },
      "file_extension": ".py",
      "mimetype": "text/x-python",
      "name": "python",
      "nbconvert_exporter": "python",
      "pygments_lexer": "ipython3",
      "version": "3.7.6"
    },
    "nteract": {
      "version": "0.21.0"
    }
  },
  "cells": [
    {
      "cell_type": "markdown",
      "metadata": {
        "id": "vDJYgMhRRI51",
        "colab_type": "text"
      },
      "source": [
        "<img align=\"left\" src=\"https://lever-client-logos.s3.amazonaws.com/864372b1-534c-480e-acd5-9711f850815c-1524247202159.png\" width=200>\n",
        "<br></br>\n",
        "<br></br>\n",
        "\n",
        "# Major Neural Network Architectures Challenge\n",
        "## *Data Science Unit 4 Sprint 3 Challenge*\n",
        "\n",
        "In this sprint challenge, you'll explore some of the cutting edge of Data Science. This week we studied several famous neural network architectures: \n",
        "recurrent neural networks (RNNs), long short-term memory (LSTMs), convolutional neural networks (CNNs), and Autoencoders. In this sprint challenge, you will revisit these models. Remember, we are testing your knowledge of these architectures not your ability to fit a model with high accuracy. \n",
        "\n",
        "__*Caution:*__  these approaches can be pretty heavy computationally. All problems were designed so that you should be able to achieve results within at most 5-10 minutes of runtime locally, on AWS SageMaker, on Colab or on a comparable environment. If something is running longer, double check your approach!\n",
        "\n",
        "## Challenge Objectives\n",
        "*You should be able to:*\n",
        "* <a href=\"#p1\">Part 1</a>: Train a LSTM classification model\n",
        "* <a href=\"#p2\">Part 2</a>: Utilize a pre-trained CNN for object detection\n",
        "* <a href=\"#p3\">Part 3</a>: Describe a use case for an autoencoder\n",
        "* <a href=\"#p4\">Part 4</a>: Describe yourself as a Data Science and elucidate your vision of AI"
      ]
    },
    {
      "cell_type": "markdown",
      "metadata": {
        "colab_type": "text",
        "id": "-5UwGRnJOmD4"
      },
      "source": [
        "<a id=\"p1\"></a>\n",
        "## Part 1 - LSTMSs\n",
        "\n",
        "Use a LSTM to fit a multi-class classification model on Reuters news articles to distinguish topics of articles. The data is already encoded properly for use in a LSTM model. \n",
        "\n",
        "Your Tasks: \n",
        "- Use Keras to fit a predictive model, classifying news articles into topics. \n",
        "- Report your overall score and accuracy\n",
        "\n",
        "For reference, the [Keras IMDB sentiment classification example](https://github.com/keras-team/keras/blob/master/examples/imdb_lstm.py) will be useful, as well as the LSTM code we used in class.\n",
        "\n",
        "__*Note:*__  Focus on getting a running model, not on maxing accuracy with extreme data size or epoch numbers. Only revisit and push accuracy if you get everything else done!"
      ]
    },
    {
      "cell_type": "code",
      "metadata": {
        "colab_type": "code",
        "id": "DS-9ksWjoJit",
        "outputId": "391c238b-a414-40c2-b1cd-0534b5c5b3c1",
        "colab": {
          "base_uri": "https://localhost:8080/",
          "height": 51
        }
      },
      "source": [
        "from tensorflow.keras.datasets import reuters\n",
        "\n",
        "(X_train, y_train), (X_test, y_test) = reuters.load_data(num_words=None,\n",
        "                                                         skip_top=0,\n",
        "                                                         maxlen=None,\n",
        "                                                         test_split=0.2,\n",
        "                                                         seed=723812,\n",
        "                                                         start_char=1,\n",
        "                                                         oov_char=2,\n",
        "                                                         index_from=3)"
      ],
      "execution_count": 1,
      "outputs": [
        {
          "output_type": "stream",
          "text": [
            "Downloading data from https://storage.googleapis.com/tensorflow/tf-keras-datasets/reuters.npz\n",
            "2113536/2110848 [==============================] - 0s 0us/step\n"
          ],
          "name": "stdout"
        }
      ]
    },
    {
      "cell_type": "code",
      "metadata": {
        "colab_type": "code",
        "id": "fLKqFh8DovaN",
        "outputId": "cceb1022-cc5b-4558-8379-72f2b41970a1",
        "colab": {
          "base_uri": "https://localhost:8080/",
          "height": 102
        }
      },
      "source": [
        "# Demo of encoding\n",
        "\n",
        "word_index = reuters.get_word_index(path=\"reuters_word_index.json\")\n",
        "\n",
        "print(f\"Iran is encoded as {word_index['iran']} in the data\")\n",
        "print(f\"London is encoded as {word_index['london']} in the data\")\n",
        "print(\"Words are encoded as numbers in our dataset.\")"
      ],
      "execution_count": 2,
      "outputs": [
        {
          "output_type": "stream",
          "text": [
            "Downloading data from https://storage.googleapis.com/tensorflow/tf-keras-datasets/reuters_word_index.json\n",
            "557056/550378 [==============================] - 0s 0us/step\n",
            "Iran is encoded as 779 in the data\n",
            "London is encoded as 544 in the data\n",
            "Words are encoded as numbers in our dataset.\n"
          ],
          "name": "stdout"
        }
      ]
    },
    {
      "cell_type": "code",
      "metadata": {
        "id": "kohfTWBfb3pQ",
        "colab_type": "code",
        "colab": {}
      },
      "source": [
        "word_index = {k:(v+3) for k,v in word_index.items()}\n",
        "\n",
        "word_index[\"<PAD>\"] = 0\n",
        "word_index[\"<START>\"] = 1\n",
        "word_index[\"<UNKNOWN>\"] = 2\n",
        "word_index[\"<UNUSED>\"] = 3\n",
        "\n",
        "# Perform reverse word lookup and make it callable\n",
        "reverse_word_index = dict([(value, key) for (key, value) in word_index.items()])\n",
        "def decode_review(text):\n",
        "    return ' '.join([reverse_word_index.get(i, '?') for i in text])"
      ],
      "execution_count": 0,
      "outputs": []
    },
    {
      "cell_type": "code",
      "metadata": {
        "id": "r2uDKWT3b-ds",
        "colab_type": "code",
        "colab": {
          "base_uri": "https://localhost:8080/",
          "height": 224
        },
        "outputId": "8b2ab411-5d03-4810-8232-95139deeb1af"
      },
      "source": [
        "# Do not change this line. You need the +1 for some reason. \n",
        "max_features = len(word_index.values()) + 1\n",
        "\n",
        "import numpy as np \n",
        "\n",
        "batch_size = 32\n",
        "\n",
        "class_names = ['']\n",
        "\n",
        "all_articles = np.concatenate((X_train, X_test), axis=0)\n",
        "\n",
        "# Review lengths across test and training whole datasets\n",
        "print(\"Maximum article length: {}\".format(len(max((all_articles), key=len))))\n",
        "print(\"Minimum article length: {}\".format(len(min((all_articles), key=len))))\n",
        "result = [len(x) for x in all_articles]\n",
        "print(\"Mean article length: {}\".format(np.mean(result)))\n",
        "\n",
        "print(\"\")\n",
        "print(\"Machine Readable Article\")\n",
        "print(\"  Article Text: \" + str(X_train[10]))\n",
        "print(\"  Article Class: \" + str(y_train[10]))\n",
        "\n",
        "# Print a review and it's class in human readable format. Replace the number\n",
        "# to select a different review.\n",
        "print(\"\")\n",
        "print(\"Human Readable Article\")\n",
        "print(\"  Article Text: \" + decode_review(X_train[10]))\n",
        "print(\"  Article Class: \" + str(y_train[10]))"
      ],
      "execution_count": 4,
      "outputs": [
        {
          "output_type": "stream",
          "text": [
            "Maximum article length: 2376\n",
            "Minimum article length: 2\n",
            "Mean article length: 145.96419665122906\n",
            "\n",
            "Machine Readable Article\n",
            "  Article Text: [1, 4, 1456, 5, 141, 357, 1103, 332, 21, 4, 8239, 5, 678, 40, 10706, 218, 21, 4, 4537, 3309, 357, 76, 7, 4, 585, 121, 66, 199, 8, 144, 34, 210, 13704, 1221, 13, 1091, 1875, 50, 34, 958, 1646, 622, 77, 8, 787, 24, 858, 1580, 9545, 62, 129, 1104, 554, 77, 8, 77, 133, 569, 9, 1856, 6, 500, 198, 2424, 13, 91, 950, 225, 121, 290, 4, 195, 5, 4, 1056, 357, 869, 5787, 2943, 8, 331, 36, 64, 45, 836, 830, 185, 25, 2424, 41, 4085, 17, 12]\n",
            "  Article Class: 9\n",
            "\n",
            "Human Readable Article\n",
            "  Article Text: <START> the failure of international coffee organization talks on the reintroduction of quotas has paralysed business on the hamburg green coffee market in the past week trade sources said there was only sporadic activity for spot material which was mainly requirement buying they said adding that pre registered coffees were no longer available they said they expected brazil and colombia to open export registrations for may shipment next week however the president of the brazilian coffee institute jorio dauster said yesterday he had not yet decided when its registrations would reopen reuter 3\n",
            "  Article Class: 9\n"
          ],
          "name": "stdout"
        }
      ]
    },
    {
      "cell_type": "code",
      "metadata": {
        "id": "DDCSLyAbcCY5",
        "colab_type": "code",
        "colab": {}
      },
      "source": [
        "# Pad the articles to make them equal length\n",
        "from tensorflow.keras.preprocessing import sequence\n",
        "import pandas as pd\n",
        "import tensorflow as tf\n",
        "\n",
        "maxlen=225\n",
        "\n",
        "X_train = sequence.pad_sequences(X_train, maxlen=maxlen)\n",
        "X_test = sequence.pad_sequences(X_test, maxlen=maxlen)"
      ],
      "execution_count": 0,
      "outputs": []
    },
    {
      "cell_type": "code",
      "metadata": {
        "id": "uE7fr9dwcHaj",
        "colab_type": "code",
        "colab": {}
      },
      "source": [
        "# One hotting our y values\n",
        "\n",
        "y_train = tf.one_hot(y_train, depth=46, axis=-1)\n",
        "y_test = tf.one_hot(y_test, depth=46, axis=-1)"
      ],
      "execution_count": 0,
      "outputs": []
    },
    {
      "cell_type": "code",
      "metadata": {
        "id": "QlQMCX8YcHzW",
        "colab_type": "code",
        "colab": {}
      },
      "source": [
        "# create our modle and compile\n",
        "\n",
        "from tensorflow.keras.models import Sequential\n",
        "from tensorflow.keras.layers import Dense, Embedding, Dropout, LSTM\n",
        "\n",
        "lstm = Sequential()\n",
        "lstm.add(Embedding(max_features +1, 128))\n",
        "lstm.add(LSTM(32))\n",
        "lstm.add(Dropout(0.25))\n",
        "lstm.add(Dense(46, activation='softmax'))\n",
        "\n",
        "lstm.compile(loss='categorical_crossentropy',\n",
        "             optimizer='adam', \n",
        "             metrics=['accuracy'])"
      ],
      "execution_count": 0,
      "outputs": []
    },
    {
      "cell_type": "code",
      "metadata": {
        "id": "3AKNup5ycM_6",
        "colab_type": "code",
        "colab": {
          "base_uri": "https://localhost:8080/",
          "height": 289
        },
        "outputId": "4af88372-f4c4-405d-adc2-c1b8f3189224"
      },
      "source": [
        "# A useful tool is to look at the summary\n",
        "\n",
        "lstm.summary()"
      ],
      "execution_count": 8,
      "outputs": [
        {
          "output_type": "stream",
          "text": [
            "Model: \"sequential\"\n",
            "_________________________________________________________________\n",
            "Layer (type)                 Output Shape              Param #   \n",
            "=================================================================\n",
            "embedding (Embedding)        (None, None, 128)         3966080   \n",
            "_________________________________________________________________\n",
            "lstm (LSTM)                  (None, 32)                20608     \n",
            "_________________________________________________________________\n",
            "dropout (Dropout)            (None, 32)                0         \n",
            "_________________________________________________________________\n",
            "dense (Dense)                (None, 46)                1518      \n",
            "=================================================================\n",
            "Total params: 3,988,206\n",
            "Trainable params: 3,988,206\n",
            "Non-trainable params: 0\n",
            "_________________________________________________________________\n"
          ],
          "name": "stdout"
        }
      ]
    },
    {
      "cell_type": "code",
      "metadata": {
        "id": "kD8_2XNLcSj1",
        "colab_type": "code",
        "colab": {
          "base_uri": "https://localhost:8080/",
          "height": 207
        },
        "outputId": "f628d1a4-9f8d-4e35-f757-bb1d2d656982"
      },
      "source": [
        "# 5 Epochs should show some improvement, but it takes a while!\n",
        "\n",
        "lstm_history = lstm.fit(X_train,\n",
        "                        y_train,\n",
        "                        validation_data=(X_test, y_test),\n",
        "                        batch_size=batch_size,\n",
        "                        epochs=5,\n",
        "                        verbose=1)"
      ],
      "execution_count": 9,
      "outputs": [
        {
          "output_type": "stream",
          "text": [
            "Epoch 1/5\n",
            "281/281 [==============================] - 16s 56ms/step - loss: 2.4356 - accuracy: 0.4206 - val_loss: 1.8875 - val_accuracy: 0.5191\n",
            "Epoch 2/5\n",
            "281/281 [==============================] - 15s 55ms/step - loss: 1.8159 - accuracy: 0.5278 - val_loss: 1.8907 - val_accuracy: 0.4844\n",
            "Epoch 3/5\n",
            "281/281 [==============================] - 15s 53ms/step - loss: 1.6398 - accuracy: 0.5569 - val_loss: 1.6338 - val_accuracy: 0.5770\n",
            "Epoch 4/5\n",
            "281/281 [==============================] - 15s 53ms/step - loss: 1.4185 - accuracy: 0.6296 - val_loss: 1.6011 - val_accuracy: 0.6077\n",
            "Epoch 5/5\n",
            "281/281 [==============================] - 15s 54ms/step - loss: 1.2161 - accuracy: 0.6858 - val_loss: 1.5175 - val_accuracy: 0.6349\n"
          ],
          "name": "stdout"
        }
      ]
    },
    {
      "cell_type": "code",
      "metadata": {
        "id": "KC6D3KhmcUcO",
        "colab_type": "code",
        "colab": {
          "base_uri": "https://localhost:8080/",
          "height": 295
        },
        "outputId": "f378266a-b25d-4259-80b5-081354f52021"
      },
      "source": [
        "# Let's plot it! \n",
        "\n",
        "import matplotlib.pyplot as plt\n",
        "\n",
        "plt.plot(lstm_history.history['loss'])\n",
        "plt.plot(lstm_history.history['val_loss'])\n",
        "plt.title('Model loss')\n",
        "plt.ylabel('Loss')\n",
        "plt.xlabel('Epoch')\n",
        "plt.legend(['Train', 'Test'], loc='upper left')\n",
        "plt.show();"
      ],
      "execution_count": 10,
      "outputs": [
        {
          "output_type": "display_data",
          "data": {
            "image/png": "[encoded data removed]",
            "text/plain": [
              "<Figure size 432x288 with 1 Axes>"
            ]
          },
          "metadata": {
            "tags": [],
            "needs_background": "light"
          }
        }
      ]
    },
    {
      "cell_type": "markdown",
      "metadata": {
        "nteract": {
          "transient": {
            "deleting": false
          }
        },
        "id": "kGkJ8BNhRI6A",
        "colab_type": "text"
      },
      "source": [
        "## Sequence Data Question\n",
        "#### *Describe the `pad_sequences` method used on the training dataset. What does it do? Why do you need it?*\n",
        "#####Pad_sequences is a method from Keras Preprocessing that is used to ensure all sequences in a dataset will be the same length. This is done to keep it consistent for proper calculations. \n",
        "\n",
        "\n",
        "## RNNs versus LSTMs\n",
        "#### *What are the primary motivations behind using Long-ShortTerm Memory Cell unit over traditional Recurrent Neural Networks?*\n",
        "##### RNNs have \"short-term memory\". LSTMs add memorgy gates in order to use earlier weights. \n",
        "\n",
        "\n",
        "## RNN / LSTM Use Cases\n",
        "#### *Name and Describe 3 Use Cases of LSTMs or RNNs and why they are suited to that use case*\n",
        "##### Three cases for LSTMs are Robot control, grammar learning, and time series prediction. These are all cases that do well with LSTMs since there won't be an issue with shirt term memory loss. More data can be input for better predictions. "
      ]
    },
    {
      "cell_type": "markdown",
      "metadata": {
        "colab_type": "text",
        "id": "yz0LCZd_O4IG"
      },
      "source": [
        "<a id=\"p2\"></a>\n",
        "## Part 2- CNNs\n",
        "\n",
        "### Find the Frog\n",
        "\n",
        "Time to play \"find the frog!\" Use Keras and [ResNet50v2](https://www.tensorflow.org/api_docs/python/tf/keras/applications/resnet_v2) (pre-trained) to detect which of the images with the `frog_images` subdirectory has a frog in it. Note: You will need to upload the images to Colab. \n",
        "\n",
        "<img align=\"left\" src=\"https://d3i6fh83elv35t.cloudfront.net/newshour/app/uploads/2017/03/GettyImages-654745934-1024x687.jpg\" width=400>"
      ]
    },
    {
      "cell_type": "code",
      "metadata": {
        "id": "GauKNxC3fLw2",
        "colab_type": "code",
        "colab": {
          "base_uri": "https://localhost:8080/",
          "height": 122
        },
        "outputId": "503d09fd-708e-4efa-f0e0-935577e69953"
      },
      "source": [
        "from google.colab import drive\n",
        "drive.mount('/content/drive', force_remount=True)"
      ],
      "execution_count": 11,
      "outputs": [
        {
          "output_type": "stream",
          "text": [
            "Go to this URL in a browser: https://accounts.google.com/o/oauth2/auth?client_id=947318989803-6bn6qk8qdgf4n4g3pfee6491hc0brc4i.apps.googleusercontent.com&redirect_uri=urn%3aietf%3awg%3aoauth%3a2.0%3aoob&response_type=code&scope=email%20https%3a%2f%2fwww.googleapis.com%2fauth%2fdocs.test%20https%3a%2f%2fwww.googleapis.com%2fauth%2fdrive%20https%3a%2f%2fwww.googleapis.com%2fauth%2fdrive.photos.readonly%20https%3a%2f%2fwww.googleapis.com%2fauth%2fpeopleapi.readonly\n",
            "\n",
            "Enter your authorization code:\n",
            "··········\n",
            "Mounted at /content/drive\n"
          ],
          "name": "stdout"
        }
      ]
    },
    {
      "cell_type": "code",
      "metadata": {
        "id": "y_TdTeX6RZhn",
        "colab_type": "code",
        "colab": {}
      },
      "source": [
        "# I am having some serious issues getting any images to load\n",
        "\n",
        "'''from skimage.io import imread_collection\n",
        "from skimage.transform import resize\n",
        "import numpy as np\n",
        "\n",
        "images = imread_collection('./frog_images/*.jpg')'''"
      ],
      "execution_count": 0,
      "outputs": []
    },
    {
      "cell_type": "markdown",
      "metadata": {
        "id": "QniSfajgRI6B",
        "colab_type": "text"
      },
      "source": [
        "The skimage function below will help you read in all the frog images into memory at once. You should use the preprocessing functions that come with ResnetV2 to help resize the images prior to inference. "
      ]
    },
    {
      "cell_type": "code",
      "metadata": {
        "id": "0TehPjXFc6r1",
        "colab_type": "code",
        "colab": {
          "base_uri": "https://localhost:8080/",
          "height": 258
        },
        "outputId": "611adc61-a944-40e4-c1b2-e856290dd617"
      },
      "source": [
        "!pip install google_images_download"
      ],
      "execution_count": 25,
      "outputs": [
        {
          "output_type": "stream",
          "text": [
            "Collecting google_images_download\n",
            "  Downloading https://files.pythonhosted.org/packages/18/ed/0319d30c48f3653802da8e6dcfefcea6370157d10d566ef6807cceb5ec4d/google_images_download-2.8.0.tar.gz\n",
            "Collecting selenium\n",
            "\u001b[?25l  Downloading https://files.pythonhosted.org/packages/80/d6/4294f0b4bce4de0abf13e17190289f9d0613b0a44e5dd6a7f5ca98459853/selenium-3.141.0-py2.py3-none-any.whl (904kB)\n",
            "\u001b[K     |████████████████████████████████| 911kB 9.4MB/s \n",
            "\u001b[?25hRequirement already satisfied: urllib3 in /usr/local/lib/python3.6/dist-packages (from selenium->google_images_download) (1.24.3)\n",
            "Building wheels for collected packages: google-images-download\n",
            "  Building wheel for google-images-download (setup.py) ... \u001b[?25l\u001b[?25hdone\n",
            "  Created wheel for google-images-download: filename=google_images_download-2.8.0-py2.py3-none-any.whl size=14550 sha256=df05860b1755c9013de680932c19d1d7091402900592ddf9b9dc6614b0fe446b\n",
            "  Stored in directory: /root/.cache/pip/wheels/1f/28/ad/f56e7061e1d2a9a1affe2f9c649c2570cb9198dd24ede0bbab\n",
            "Successfully built google-images-download\n",
            "Installing collected packages: selenium, google-images-download\n",
            "Successfully installed google-images-download-2.8.0 selenium-3.141.0\n"
          ],
          "name": "stdout"
        }
      ]
    },
    {
      "cell_type": "code",
      "metadata": {
        "id": "HKbCa7_emgQU",
        "colab_type": "code",
        "colab": {
          "base_uri": "https://localhost:8080/",
          "height": 207
        },
        "outputId": "59a7aa2c-3c8a-4698-ec92-fac5e04e975b"
      },
      "source": [
        "# Hopefully this works \n",
        "\n",
        "from google_images_download import google_images_download\n",
        "\n",
        "\n",
        "response = google_images_download.googleimagesdownload()\n",
        "arguments = {\"keywords\": \"frog\", \"limit\": 5, \"print_urls\": True}\n",
        "absolute_image_paths = response.download(arguments)"
      ],
      "execution_count": 26,
      "outputs": [
        {
          "output_type": "stream",
          "text": [
            "\n",
            "Item no.: 1 --> Item name = frog\n",
            "Evaluating...\n",
            "Starting Download...\n",
            "\n",
            "\n",
            "Unfortunately all 5 could not be downloaded because some images were not downloadable. 0 is all we got for this search filter!\n",
            "\n",
            "Errors: 0\n",
            "\n"
          ],
          "name": "stdout"
        }
      ]
    },
    {
      "cell_type": "code",
      "metadata": {
        "id": "72IgUOC0mgXG",
        "colab_type": "code",
        "colab": {}
      },
      "source": [
        ""
      ],
      "execution_count": 0,
      "outputs": []
    },
    {
      "cell_type": "markdown",
      "metadata": {
        "colab_type": "text",
        "id": "si5YfNqS50QU"
      },
      "source": [
        "Your goal is to validly run ResNet50v2 on the input images - don't worry about tuning or improving the model. Print out the predictions in any way you see fit. \n",
        "\n",
        "*Hint* - ResNet 50v2 doesn't just return \"frog\". The three labels it has for frogs are: `bullfrog, tree frog, tailed frog`\n",
        "\n",
        "*Stretch goals:* \n",
        "- Check for other things such as fish.\n",
        "- Print out the image with its predicted label\n",
        "- Wrap everything nicely in well documented fucntions"
      ]
    },
    {
      "cell_type": "code",
      "metadata": {
        "colab_type": "code",
        "id": "FaT07ddW3nHz",
        "colab": {}
      },
      "source": [
        "import glob\n",
        "import numpy as np\n",
        "\n",
        "from tensorflow.keras.applications.resnet50 import ResNet50\n",
        "from tensorflow.keras.preprocessing import image\n",
        "from tensorflow.keras.applications.resnet50 import preprocess_input, decode_predictions\n",
        "\n",
        "def process_img_path(img_path):\n",
        "    return image.load_img(img_path, target_size=(224, 224))\n",
        "\n",
        "def img_contains_frog(img):\n",
        "    \"\"\" Scans image for Frogs\n",
        "    \n",
        "    Should return a boolean (True/False) if a frog is in the image.\n",
        "    \n",
        "    Inputs:\n",
        "    ---------\n",
        "    img:  Precrossed image ready for prediction. The `process_img_path`             function should already be applied to the image. \n",
        "    \n",
        "    Returns: \n",
        "    ---------\n",
        "    frogs (boolean):  TRUE or FALSE - There are frogs in the image.\n",
        "    \n",
        "    \"\"\"\n",
        "    x = image.img_to_array(img)\n",
        "    x = np.expand_dims(x, axis=0)\n",
        "    x = preprocess_input(x)\n",
        "    model = ResNet50(weights='imagenet')\n",
        "    features = model.predict(x)\n",
        "    results = decode_predictions(features, top=3)[0]\n",
        "    print(results)\n",
        "    if 'frog' in results[0][1] and results[0][2] > 0.25:\n",
        "        return True\n",
        "    else:\n",
        "        return False"
      ],
      "execution_count": 0,
      "outputs": []
    },
    {
      "cell_type": "code",
      "metadata": {
        "id": "3mmJ896Fm-bR",
        "colab_type": "code",
        "colab": {
          "base_uri": "https://localhost:8080/",
          "height": 615
        },
        "outputId": "5430ded1-faf5-4d9f-daf0-d1620bd446d7"
      },
      "source": [
        "imagelist = glob.glob('/content/drive/My Drive/frog_images2/*.jpg')\n",
        "for x in imagelist:\n",
        "    print(img_contains_frog(process_img_path(x)))"
      ],
      "execution_count": 37,
      "outputs": [
        {
          "output_type": "stream",
          "text": [
            "Downloading data from https://storage.googleapis.com/tensorflow/keras-applications/resnet/resnet50_weights_tf_dim_ordering_tf_kernels.h5\n",
            "102973440/102967424 [==============================] - 1s 0us/step\n",
            "Downloading data from https://storage.googleapis.com/download.tensorflow.org/data/imagenet_class_index.json\n",
            "40960/35363 [==================================] - 0s 0us/step\n",
            "[('n11939491', 'daisy', 0.5895168), ('n02280649', 'cabbage_butterfly', 0.0724336), ('n01737021', 'water_snake', 0.07021924)]\n",
            "False\n",
            "[('n01944390', 'snail', 0.6203681), ('n01737021', 'water_snake', 0.10255378), ('n02281787', 'lycaenid', 0.060199317)]\n",
            "False\n",
            "[('n01644373', 'tree_frog', 0.9457233), ('n01644900', 'tailed_frog', 0.013334253), ('n01641577', 'bullfrog', 0.008139561)]\n",
            "True\n",
            "[('n07716358', 'zucchini', 0.12609284), ('n04435653', 'tile_roof', 0.08869734), ('n01641577', 'bullfrog', 0.08399136)]\n",
            "False\n",
            "[('n01614925', 'bald_eagle', 0.20804939), ('n02363005', 'beaver', 0.106020525), ('n01641577', 'bullfrog', 0.10106732)]\n",
            "False\n",
            "[('n01641577', 'bullfrog', 0.8957236), ('n02398521', 'hippopotamus', 0.05675564), ('n01644900', 'tailed_frog', 0.038525965)]\n",
            "True\n",
            "[('n01644373', 'tree_frog', 0.96320146), ('n01644900', 'tailed_frog', 0.03657865), ('n01641577', 'bullfrog', 0.000107896274)]\n",
            "True\n",
            "[('n04275548', 'spider_web', 0.31364736), ('n03991062', 'pot', 0.28851372), ('n04409515', 'tennis_ball', 0.096650496)]\n",
            "False\n",
            "[('n01910747', 'jellyfish', 0.24778844), ('n03938244', 'pillow', 0.24354003), ('n04033995', 'quilt', 0.08640574)]\n",
            "False\n",
            "[('n02281787', 'lycaenid', 0.3831866), ('n03314780', 'face_powder', 0.108479075), ('n01737021', 'water_snake', 0.037972882)]\n",
            "False\n",
            "[('n04259630', 'sombrero', 0.40116397), ('n02877765', 'bottlecap', 0.15883942), ('n03983396', 'pop_bottle', 0.06293431)]\n",
            "False\n",
            "[('n03991062', 'pot', 0.7818946), ('n11939491', 'daisy', 0.08593252), ('n12620546', 'hip', 0.024487056)]\n",
            "False\n",
            "[('n01641577', 'bullfrog', 0.44089943), ('n01644373', 'tree_frog', 0.3496367), ('n01644900', 'tailed_frog', 0.2094425)]\n",
            "True\n",
            "[('n01641577', 'bullfrog', 0.98792017), ('n01667778', 'terrapin', 0.005297616), ('n02514041', 'barracouta', 0.0013830205)]\n",
            "True\n",
            "[('n02280649', 'cabbage_butterfly', 0.23024982), ('n01667778', 'terrapin', 0.16984375), ('n02281787', 'lycaenid', 0.15676896)]\n",
            "False\n"
          ],
          "name": "stdout"
        }
      ]
    },
    {
      "cell_type": "markdown",
      "metadata": {
        "colab_type": "text",
        "id": "XEuhvSu7O5Rf"
      },
      "source": [
        "<a id=\"p3\"></a>\n",
        "## Part 3 - Autoencoders\n",
        "\n",
        "Describe a use case for an autoencoder given that an autoencoder tries to predict its own input. \n",
        "\n",
        "__*Your Answer:*__ \n",
        "\n",
        "#####Autoencoders can be used for denoising images, to make the images smoother, or to enhance a certain part of the image beyond what has previously been capable.\n"
      ]
    },
    {
      "cell_type": "markdown",
      "metadata": {
        "colab_type": "text",
        "id": "626zYgjkO7Vq"
      },
      "source": [
        "<a id=\"p4\"></a>\n",
        "## Part 4 - More..."
      ]
    },
    {
      "cell_type": "markdown",
      "metadata": {
        "colab_type": "text",
        "id": "__lDWfcUO8oo"
      },
      "source": [
        "Answer the following questions, with a target audience of a fellow Data Scientist:\n",
        "\n",
        "- What do you consider your strongest area, as a Data Scientist?\n",
        "- What area of Data Science would you most like to learn more about, and why?\n",
        "- Where do you think Data Science will be in 5 years?\n",
        "- What are the threats posed by AI to our society?\n",
        "- How do you think we can counteract those threats? \n",
        "- Do you think achieving General Artifical Intelligence is ever possible?\n",
        "\n",
        "A few sentences per answer is fine - only elaborate if time allows.\n",
        "\n",
        "#####- I consider Linear Algebra and Applied Modeling my strongest suit. \n",
        "\n",
        "#####- I would love to dive into Neural Networks some more. We touch on base items, and it's all just overview. But I know it's hard to fit everything into a schedule.\n",
        "\n",
        "##### - Data Science will be strong and steady in 5 years. There will be high demand for data scientists!\n",
        "\n",
        "##### - Well, any human interaction can soil AI. We are imperfect, and machines are 1s and 0s. We can be seen as a 0 and irridicated. \n",
        "\n",
        "##### - We can establish an AI that will help seek out \"unlawful\" or \"unethical\" AI systems. Someone would need to keep that in check as well though.\n",
        "\n",
        "##### - I do! We just need the processing power for it :) "
      ]
    },
    {
      "cell_type": "markdown",
      "metadata": {
        "colab_type": "text",
        "id": "_Hoqe3mM_Mtc"
      },
      "source": [
        "## Congratulations! \n",
        "\n",
        "Thank you for your hard work, and congratulations! You've learned a lot, and you should proudly call yourself a Data Scientist.\n"
      ]
    },
    {
      "cell_type": "code",
      "metadata": {
        "id": "WMM0bJnzRI6M",
        "colab_type": "code",
        "colab": {}
      },
      "source": [
        "from IPython.display import HTML\n",
        "\n",
        "HTML(\"\"\"<iframe src=\"https://giphy.com/embed/26xivLqkv86uJzqWk\" width=\"480\" height=\"270\" frameBorder=\"0\" class=\"giphy-embed\" allowFullScreen></iframe><p><a href=\"https://giphy.com/gifs/mumm-champagne-saber-26xivLqkv86uJzqWk\">via GIPHY</a></p>\"\"\")"
      ],
      "execution_count": 0,
      "outputs": []
    }
  ]
}